{
 "cells": [
  {
   "cell_type": "code",
   "execution_count": null,
   "metadata": {},
   "outputs": [],
   "source": [
    "pip install imgaug opencv-python"
   ]
  },
  {
   "cell_type": "code",
   "execution_count": null,
   "metadata": {},
   "outputs": [],
   "source": [
    "from google.colab import drive\n",
    "drive.mount('/content/drive/')"
   ]
  },
  {
   "cell_type": "code",
   "execution_count": null,
   "metadata": {},
   "outputs": [],
   "source": [
    "import os\n",
    "import cv2\n",
    "import imgaug.augmenters as iaa\n",
    "from imgaug import parameters as iap\n",
    "import numpy as np\n",
    "from tqdm import tqdm\n",
    "\n",
    "# Define the path to your original and new augmented datasets\n",
    "original_dataset_path = '/Users/apple/Desktop/PG/Summer-24/image-DL/knee-arthritis-detection-algo/data/Training'\n",
    "augmented_dataset_path =  '/Users/apple/Desktop/PG/Summer-24/image-DL/knee-arthritis-detection-algo/data/Training_augmented'\n",
    "\n",
    "# Ensure the new directory structure\n",
    "os.makedirs(augmented_dataset_path, exist_ok=True)\n",
    "\n",
    "# Define augmentation techniques\n",
    "augmenters = iaa.Sequential([\n",
    "    iaa.Sometimes(0.5, iaa.Affine(rotate=(-20, 20))),   # Rotate images\n",
    "    iaa.Sometimes(0.5, iaa.Affine(scale=(0.8, 1.2))),  # Zoom in/out\n",
    "    iaa.Sometimes(0.5, iaa.AdditiveGaussianNoise(scale=0.05*255)),  # Add noise\n",
    "])\n",
    "\n",
    "# Count the number of files in each class\n",
    "class_counts = {\n",
    "    '0Normal': 514,\n",
    "    '1Doubtful': 477,\n",
    "    '2Mild': 232,\n",
    "    '3Moderate': 221,\n",
    "    '4Severe': 206\n",
    "}\n",
    "\n",
    "# Find the maximum number of files in any class\n",
    "max_files = max(class_counts.values())\n",
    "\n",
    "# Augment images for each class to match the maximum number of files\n",
    "for class_name, count in class_counts.items():\n",
    "    class_path = os.path.join(original_dataset_path, class_name)\n",
    "    class_files = os.listdir(class_path)\n",
    "    augmented_class_path = os.path.join(augmented_dataset_path, class_name)\n",
    "    os.makedirs(augmented_class_path, exist_ok=True)\n",
    "\n",
    "    # Copy existing images to the new directory\n",
    "    for file_name in class_files:\n",
    "        img_path = os.path.join(class_path, file_name)\n",
    "        img = cv2.imread(img_path)\n",
    "        cv2.imwrite(os.path.join(augmented_class_path, file_name), img)\n",
    "\n",
    "    # Calculate the number of augmentations needed\n",
    "    augment_needed = max_files - count\n",
    "    for i in tqdm(range(augment_needed), desc=f\"Augmenting {class_name}\"):\n",
    "        img_idx = i % count\n",
    "        img_path = os.path.join(class_path, class_files[img_idx])\n",
    "        img = cv2.imread(img_path)\n",
    "        aug_img = augmenters(image=img)\n",
    "        aug_file_name = f\"{os.path.splitext(class_files[img_idx])[0]}_aug_{i}.png\"\n",
    "        cv2.imwrite(os.path.join(augmented_class_path, aug_file_name), aug_img)\n",
    "\n",
    "print(\"Data augmentation completed and class sizes equalized.\")\n"
   ]
  }
 ],
 "metadata": {
  "language_info": {
   "name": "python"
  }
 },
 "nbformat": 4,
 "nbformat_minor": 2
}
