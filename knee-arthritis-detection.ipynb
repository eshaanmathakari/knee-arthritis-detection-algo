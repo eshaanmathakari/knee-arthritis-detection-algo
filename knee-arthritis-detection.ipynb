{
 "cells": [
  {
   "cell_type": "markdown",
   "id": "c1d2f0b1",
   "metadata": {
    "papermill": {
     "duration": 0.009822,
     "end_time": "2024-06-02T14:05:05.362066",
     "exception": false,
     "start_time": "2024-06-02T14:05:05.352244",
     "status": "completed"
    },
    "tags": []
   },
   "source": [
    "![](https://www.moati.com.au/wp-content/uploads/2022/05/knee-arthritis-surgery.jpg)"
   ]
  },
  {
   "cell_type": "markdown",
   "id": "a487f9c0",
   "metadata": {
    "papermill": {
     "duration": 0.009173,
     "end_time": "2024-06-02T14:05:05.380642",
     "exception": false,
     "start_time": "2024-06-02T14:05:05.371469",
     "status": "completed"
    },
    "tags": []
   },
   "source": [
    "# Initial Imports"
   ]
  },
  {
   "cell_type": "code",
   "execution_count": 1,
   "id": "00b936ae",
   "metadata": {},
   "outputs": [
    {
     "name": "stdout",
     "output_type": "stream",
     "text": [
      "Defaulting to user installation because normal site-packages is not writeable\n",
      "Requirement already satisfied: opencv-python in /Users/apple/Library/Python/3.9/lib/python/site-packages (4.10.0.84)\n",
      "Requirement already satisfied: numpy>=1.21.0 in /Users/apple/Library/Python/3.9/lib/python/site-packages (from opencv-python) (1.26.4)\n",
      "\n",
      "\u001b[1m[\u001b[0m\u001b[34;49mnotice\u001b[0m\u001b[1;39;49m]\u001b[0m\u001b[39;49m A new release of pip is available: \u001b[0m\u001b[31;49m24.0\u001b[0m\u001b[39;49m -> \u001b[0m\u001b[32;49m24.1.1\u001b[0m\n",
      "\u001b[1m[\u001b[0m\u001b[34;49mnotice\u001b[0m\u001b[1;39;49m]\u001b[0m\u001b[39;49m To update, run: \u001b[0m\u001b[32;49m/Library/Developer/CommandLineTools/usr/bin/python3 -m pip install --upgrade pip\u001b[0m\n",
      "Note: you may need to restart the kernel to use updated packages.\n"
     ]
    }
   ],
   "source": [
    "pip install opencv-python"
   ]
  },
  {
   "cell_type": "code",
   "execution_count": 2,
   "id": "43cbf0fa",
   "metadata": {
    "execution": {
     "iopub.execute_input": "2024-06-02T14:05:05.400663Z",
     "iopub.status.busy": "2024-06-02T14:05:05.400311Z",
     "iopub.status.idle": "2024-06-02T14:05:18.824927Z",
     "shell.execute_reply": "2024-06-02T14:05:18.824107Z"
    },
    "executionInfo": {
     "elapsed": 2,
     "status": "ok",
     "timestamp": 1624607245155,
     "user": {
      "displayName": "NOUMAN AHMAD",
      "photoUrl": "https://lh3.googleusercontent.com/a-/AOh14GhcQ3BpK0-GAMrjLlr__tOqeFHLlT11IEFK0ztPsVY=s64",
      "userId": "11031044337039581497"
     },
     "user_tz": -300
    },
    "id": "NTL9JAB_zn0k",
    "outputId": "56bd5df1-eb81-49e5-b23c-a11ee6bd185a",
    "papermill": {
     "duration": 13.437299,
     "end_time": "2024-06-02T14:05:18.827307",
     "exception": false,
     "start_time": "2024-06-02T14:05:05.390008",
     "status": "completed"
    },
    "scrolled": true,
    "tags": []
   },
   "outputs": [
    {
     "name": "stderr",
     "output_type": "stream",
     "text": [
      "/Users/apple/Library/Python/3.9/lib/python/site-packages/urllib3/__init__.py:35: NotOpenSSLWarning: urllib3 v2 only supports OpenSSL 1.1.1+, currently the 'ssl' module is compiled with 'LibreSSL 2.8.3'. See: https://github.com/urllib3/urllib3/issues/3020\n",
      "  warnings.warn(\n"
     ]
    }
   ],
   "source": [
    "import tensorflow\n",
    "import numpy as np\n",
    "import keras\n",
    "import cv2,os\n",
    "import matplotlib \n",
    "import sklearn\n"
   ]
  },
  {
   "cell_type": "markdown",
   "id": "76e942c1",
   "metadata": {
    "id": "Sqs8xkUUT7ex",
    "papermill": {
     "duration": 0.00923,
     "end_time": "2024-06-02T14:05:18.846231",
     "exception": false,
     "start_time": "2024-06-02T14:05:18.837001",
     "status": "completed"
    },
    "tags": []
   },
   "source": [
    "# Data Preprocessing"
   ]
  },
  {
   "cell_type": "code",
   "execution_count": 3,
   "id": "d8b8c4d4",
   "metadata": {
    "execution": {
     "iopub.execute_input": "2024-06-02T14:05:18.867329Z",
     "iopub.status.busy": "2024-06-02T14:05:18.866073Z",
     "iopub.status.idle": "2024-06-02T14:05:18.879135Z",
     "shell.execute_reply": "2024-06-02T14:05:18.878203Z"
    },
    "executionInfo": {
     "elapsed": 342,
     "status": "ok",
     "timestamp": 1624607246066,
     "user": {
      "displayName": "NOUMAN AHMAD",
      "photoUrl": "https://lh3.googleusercontent.com/a-/AOh14GhcQ3BpK0-GAMrjLlr__tOqeFHLlT11IEFK0ztPsVY=s64",
      "userId": "11031044337039581497"
     },
     "user_tz": -300
    },
    "id": "k89Phl5nTfYU",
    "outputId": "657b91c8-7db2-43dd-c6f2-c5cd03213376",
    "papermill": {
     "duration": 0.025522,
     "end_time": "2024-06-02T14:05:18.881084",
     "exception": false,
     "start_time": "2024-06-02T14:05:18.855562",
     "status": "completed"
    },
    "tags": []
   },
   "outputs": [
    {
     "name": "stdout",
     "output_type": "stream",
     "text": [
      "{'.DS_Store': 0, '1Doubtful': 1, '4Severe': 2, '2Mild': 3, '0Normal': 4, '3Moderate': 5}\n",
      "['.DS_Store', '1Doubtful', '4Severe', '2Mild', '0Normal', '3Moderate']\n",
      "[0, 1, 2, 3, 4, 5]\n"
     ]
    }
   ],
   "source": [
    "data_path='/Users/apple/Desktop/PG/Summer-24/image-DL/arthritis/Training'\n",
    "categories=os.listdir(data_path)\n",
    "labels=[i for i in range(len(categories))]\n",
    "\n",
    "label_dict=dict(zip(categories,labels)) #empty dictionary\n",
    "print(label_dict)\n",
    "print(categories)\n",
    "print(labels)"
   ]
  },
  {
   "cell_type": "code",
   "execution_count": 4,
   "id": "556e0067",
   "metadata": {
    "execution": {
     "iopub.execute_input": "2024-06-02T14:05:18.902286Z",
     "iopub.status.busy": "2024-06-02T14:05:18.901977Z",
     "iopub.status.idle": "2024-06-02T14:05:28.508586Z",
     "shell.execute_reply": "2024-06-02T14:05:28.507598Z"
    },
    "executionInfo": {
     "elapsed": 5512,
     "status": "ok",
     "timestamp": 1624607253016,
     "user": {
      "displayName": "NOUMAN AHMAD",
      "photoUrl": "https://lh3.googleusercontent.com/a-/AOh14GhcQ3BpK0-GAMrjLlr__tOqeFHLlT11IEFK0ztPsVY=s64",
      "userId": "11031044337039581497"
     },
     "user_tz": -300
    },
    "id": "BScfeIRlTtlL",
    "papermill": {
     "duration": 9.61975,
     "end_time": "2024-06-02T14:05:28.511001",
     "exception": false,
     "start_time": "2024-06-02T14:05:18.891251",
     "status": "completed"
    },
    "tags": []
   },
   "outputs": [
    {
     "ename": "NotADirectoryError",
     "evalue": "[Errno 20] Not a directory: '/Users/apple/Desktop/PG/Summer-24/image-DL/arthritis/Training/.DS_Store'",
     "output_type": "error",
     "traceback": [
      "\u001b[0;31m---------------------------------------------------------------------------\u001b[0m",
      "\u001b[0;31mNotADirectoryError\u001b[0m                        Traceback (most recent call last)",
      "Cell \u001b[0;32mIn[4], line 7\u001b[0m\n\u001b[1;32m      5\u001b[0m \u001b[38;5;28;01mfor\u001b[39;00m category \u001b[38;5;129;01min\u001b[39;00m categories:\n\u001b[1;32m      6\u001b[0m     folder_path\u001b[38;5;241m=\u001b[39mos\u001b[38;5;241m.\u001b[39mpath\u001b[38;5;241m.\u001b[39mjoin(data_path,category)\n\u001b[0;32m----> 7\u001b[0m     img_names\u001b[38;5;241m=\u001b[39m\u001b[43mos\u001b[49m\u001b[38;5;241;43m.\u001b[39;49m\u001b[43mlistdir\u001b[49m\u001b[43m(\u001b[49m\u001b[43mfolder_path\u001b[49m\u001b[43m)\u001b[49m\n\u001b[1;32m      9\u001b[0m     \u001b[38;5;28;01mfor\u001b[39;00m img_name \u001b[38;5;129;01min\u001b[39;00m img_names:\n\u001b[1;32m     10\u001b[0m         img_path\u001b[38;5;241m=\u001b[39mos\u001b[38;5;241m.\u001b[39mpath\u001b[38;5;241m.\u001b[39mjoin(folder_path,img_name)\n",
      "\u001b[0;31mNotADirectoryError\u001b[0m: [Errno 20] Not a directory: '/Users/apple/Desktop/PG/Summer-24/image-DL/arthritis/Training/.DS_Store'"
     ]
    }
   ],
   "source": [
    "img_size=256\n",
    "data=[]\n",
    "label=[]\n",
    "\n",
    "for category in categories:\n",
    "    folder_path=os.path.join(data_path,category)\n",
    "    img_names=os.listdir(folder_path)\n",
    "        \n",
    "    for img_name in img_names:\n",
    "        img_path=os.path.join(folder_path,img_name)\n",
    "        img=cv2.imread(img_path)\n",
    "        try:\n",
    "            gray = cv2.cvtColor(img, cv2.COLOR_BGR2GRAY)  \n",
    "            resized=cv2.resize(gray,(img_size,img_size))\n",
    "            #resizing the image  into 256 x 256, since we need a fixed common size for all the images in the dataset\n",
    "            data.append(resized)\n",
    "            label.append(label_dict[category])\n",
    "            #appending the image and the label(categorized) into the list (dataset)\n",
    "        except Exception as e:\n",
    "            print('Exception:',e)\n",
    "            #if any exception rasied, the exception will be printed here. And pass to the next image"
   ]
  },
  {
   "cell_type": "markdown",
   "id": "92ba470e",
   "metadata": {
    "id": "mYQHryCXVQa9",
    "papermill": {
     "duration": 0.009285,
     "end_time": "2024-06-02T14:05:28.531047",
     "exception": false,
     "start_time": "2024-06-02T14:05:28.521762",
     "status": "completed"
    },
    "tags": []
   },
   "source": [
    "# Rescale and assign  catagorical labels"
   ]
  },
  {
   "cell_type": "code",
   "execution_count": null,
   "id": "c6b9c435",
   "metadata": {
    "execution": {
     "iopub.execute_input": "2024-06-02T14:05:28.551048Z",
     "iopub.status.busy": "2024-06-02T14:05:28.550752Z",
     "iopub.status.idle": "2024-06-02T14:05:28.846684Z",
     "shell.execute_reply": "2024-06-02T14:05:28.845893Z"
    },
    "executionInfo": {
     "elapsed": 377,
     "status": "ok",
     "timestamp": 1624607287285,
     "user": {
      "displayName": "NOUMAN AHMAD",
      "photoUrl": "https://lh3.googleusercontent.com/a-/AOh14GhcQ3BpK0-GAMrjLlr__tOqeFHLlT11IEFK0ztPsVY=s64",
      "userId": "11031044337039581497"
     },
     "user_tz": -300
    },
    "id": "DRj6dU9zTxNw",
    "papermill": {
     "duration": 0.30849,
     "end_time": "2024-06-02T14:05:28.849042",
     "exception": false,
     "start_time": "2024-06-02T14:05:28.540552",
     "status": "completed"
    },
    "tags": []
   },
   "outputs": [],
   "source": [
    "data=np.array(data)/255.0\n",
    "data=np.reshape(data,(data.shape[0],img_size,img_size,1))\n",
    "label=np.array(label)\n",
    "\n",
    "from keras.utils import to_categorical\n",
    "new_label= to_categorical(label)"
   ]
  },
  {
   "cell_type": "code",
   "execution_count": null,
   "id": "41c6bebd",
   "metadata": {
    "execution": {
     "iopub.execute_input": "2024-06-02T14:05:28.869927Z",
     "iopub.status.busy": "2024-06-02T14:05:28.869614Z",
     "iopub.status.idle": "2024-06-02T14:05:28.875940Z",
     "shell.execute_reply": "2024-06-02T14:05:28.875189Z"
    },
    "executionInfo": {
     "elapsed": 4,
     "status": "ok",
     "timestamp": 1624607288555,
     "user": {
      "displayName": "NOUMAN AHMAD",
      "photoUrl": "https://lh3.googleusercontent.com/a-/AOh14GhcQ3BpK0-GAMrjLlr__tOqeFHLlT11IEFK0ztPsVY=s64",
      "userId": "11031044337039581497"
     },
     "user_tz": -300
    },
    "id": "M2Ww7WuoeRAo",
    "outputId": "1c68d332-aee8-4dc2-8382-38907de824e3",
    "papermill": {
     "duration": 0.018927,
     "end_time": "2024-06-02T14:05:28.877854",
     "exception": false,
     "start_time": "2024-06-02T14:05:28.858927",
     "status": "completed"
    },
    "tags": []
   },
   "outputs": [],
   "source": [
    "new_label.shape"
   ]
  },
  {
   "cell_type": "code",
   "execution_count": null,
   "id": "1464124b",
   "metadata": {
    "execution": {
     "iopub.execute_input": "2024-06-02T14:05:28.898338Z",
     "iopub.status.busy": "2024-06-02T14:05:28.898011Z",
     "iopub.status.idle": "2024-06-02T14:05:28.903712Z",
     "shell.execute_reply": "2024-06-02T14:05:28.902944Z"
    },
    "executionInfo": {
     "elapsed": 4,
     "status": "ok",
     "timestamp": 1624607291285,
     "user": {
      "displayName": "NOUMAN AHMAD",
      "photoUrl": "https://lh3.googleusercontent.com/a-/AOh14GhcQ3BpK0-GAMrjLlr__tOqeFHLlT11IEFK0ztPsVY=s64",
      "userId": "11031044337039581497"
     },
     "user_tz": -300
    },
    "id": "w5yQijqzVHJN",
    "outputId": "4aefaeae-b6de-4901-bda8-c70ad98bcac4",
    "papermill": {
     "duration": 0.018158,
     "end_time": "2024-06-02T14:05:28.905609",
     "exception": false,
     "start_time": "2024-06-02T14:05:28.887451",
     "status": "completed"
    },
    "tags": []
   },
   "outputs": [],
   "source": [
    "data.shape"
   ]
  },
  {
   "cell_type": "code",
   "execution_count": null,
   "id": "d63dec78",
   "metadata": {
    "execution": {
     "iopub.execute_input": "2024-06-02T14:05:28.926603Z",
     "iopub.status.busy": "2024-06-02T14:05:28.926008Z",
     "iopub.status.idle": "2024-06-02T14:05:28.931634Z",
     "shell.execute_reply": "2024-06-02T14:05:28.930802Z"
    },
    "executionInfo": {
     "elapsed": 6,
     "status": "ok",
     "timestamp": 1624607291786,
     "user": {
      "displayName": "NOUMAN AHMAD",
      "photoUrl": "https://lh3.googleusercontent.com/a-/AOh14GhcQ3BpK0-GAMrjLlr__tOqeFHLlT11IEFK0ztPsVY=s64",
      "userId": "11031044337039581497"
     },
     "user_tz": -300
    },
    "id": "L1JcfG4MdVZ2",
    "outputId": "0973e4d2-595e-4a0a-9264-0a4b2c72ff54",
    "papermill": {
     "duration": 0.018115,
     "end_time": "2024-06-02T14:05:28.933402",
     "exception": false,
     "start_time": "2024-06-02T14:05:28.915287",
     "status": "completed"
    },
    "tags": []
   },
   "outputs": [],
   "source": [
    "data.shape[1:]"
   ]
  },
  {
   "cell_type": "markdown",
   "id": "07246253",
   "metadata": {
    "papermill": {
     "duration": 0.009716,
     "end_time": "2024-06-02T14:05:28.952747",
     "exception": false,
     "start_time": "2024-06-02T14:05:28.943031",
     "status": "completed"
    },
    "tags": []
   },
   "source": [
    "# Model Creation"
   ]
  },
  {
   "cell_type": "code",
   "execution_count": null,
   "id": "9cbc96f5",
   "metadata": {
    "execution": {
     "iopub.execute_input": "2024-06-02T14:05:28.974282Z",
     "iopub.status.busy": "2024-06-02T14:05:28.973452Z",
     "iopub.status.idle": "2024-06-02T14:05:29.948463Z",
     "shell.execute_reply": "2024-06-02T14:05:29.947672Z"
    },
    "executionInfo": {
     "elapsed": 407,
     "status": "ok",
     "timestamp": 1624607292189,
     "user": {
      "displayName": "NOUMAN AHMAD",
      "photoUrl": "https://lh3.googleusercontent.com/a-/AOh14GhcQ3BpK0-GAMrjLlr__tOqeFHLlT11IEFK0ztPsVY=s64",
      "userId": "11031044337039581497"
     },
     "user_tz": -300
    },
    "id": "XgsZogOtUPm2",
    "papermill": {
     "duration": 0.988082,
     "end_time": "2024-06-02T14:05:29.950694",
     "exception": false,
     "start_time": "2024-06-02T14:05:28.962612",
     "status": "completed"
    },
    "tags": []
   },
   "outputs": [],
   "source": [
    "from keras.models import Sequential\n",
    "from keras.layers import Dense,Activation,Flatten,Dropout\n",
    "from keras.layers import Conv2D,MaxPooling2D\n",
    "from keras.callbacks import ModelCheckpoint\n",
    "\n",
    "model=Sequential()\n",
    "\n",
    "model.add(Conv2D(128,(3,3),input_shape=data.shape[1:]))\n",
    "model.add(Activation('relu'))\n",
    "model.add(MaxPooling2D(pool_size=(2,2)))\n",
    "#The first CNN layer followed by Relu and MaxPooling layers\n",
    "\n",
    "model.add(Conv2D(64,(3,3)))\n",
    "model.add(Activation('relu'))\n",
    "model.add(MaxPooling2D(pool_size=(2,2)))\n",
    "#The second convolution layer followed by Relu and MaxPooling layers\n",
    "\n",
    "model.add(Conv2D(32,(3,3)))\n",
    "model.add(Activation('relu'))\n",
    "model.add(MaxPooling2D(pool_size=(2,2)))\n",
    "#The thrid convolution layer followed by Relu and MaxPooling layers\n",
    "\n",
    "model.add(Flatten())\n",
    "#Flatten layer to stack the output convolutions from 3rd convolution layer\n",
    "model.add(Dropout(0.2))\n",
    "\n",
    "model.add(Dense(128,activation='relu'))\n",
    "#Dense layer of 128 neurons\n",
    "\n",
    "model.add(Dropout(0.1))\n",
    "model.add(Dense(64,activation='relu'))\n",
    "#Dense layer of 64 neurons\n",
    "\n",
    "model.add(Dense(5,activation='softmax'))\n",
    "#The Final layer with two outputs for two categories\n",
    "\n",
    "model.compile(loss='categorical_crossentropy',optimizer='adam',metrics=['accuracy'])"
   ]
  },
  {
   "cell_type": "markdown",
   "id": "f269f4a0",
   "metadata": {
    "papermill": {
     "duration": 0.010463,
     "end_time": "2024-06-02T14:05:29.973969",
     "exception": false,
     "start_time": "2024-06-02T14:05:29.963506",
     "status": "completed"
    },
    "tags": []
   },
   "source": [
    "# Model Summary "
   ]
  },
  {
   "cell_type": "code",
   "execution_count": null,
   "id": "4068bbe1",
   "metadata": {
    "execution": {
     "iopub.execute_input": "2024-06-02T14:05:29.996656Z",
     "iopub.status.busy": "2024-06-02T14:05:29.996001Z",
     "iopub.status.idle": "2024-06-02T14:05:30.025466Z",
     "shell.execute_reply": "2024-06-02T14:05:30.024575Z"
    },
    "executionInfo": {
     "elapsed": 5,
     "status": "ok",
     "timestamp": 1624607292959,
     "user": {
      "displayName": "NOUMAN AHMAD",
      "photoUrl": "https://lh3.googleusercontent.com/a-/AOh14GhcQ3BpK0-GAMrjLlr__tOqeFHLlT11IEFK0ztPsVY=s64",
      "userId": "11031044337039581497"
     },
     "user_tz": -300
    },
    "id": "yfCMzZEpcyAM",
    "outputId": "9bca418e-148c-461f-fe89-f3de529231ce",
    "papermill": {
     "duration": 0.043062,
     "end_time": "2024-06-02T14:05:30.027532",
     "exception": false,
     "start_time": "2024-06-02T14:05:29.984470",
     "status": "completed"
    },
    "tags": []
   },
   "outputs": [],
   "source": [
    "model.summary()"
   ]
  },
  {
   "cell_type": "markdown",
   "id": "eac7797f",
   "metadata": {
    "id": "Lzs7FPsncqKT",
    "papermill": {
     "duration": 0.01074,
     "end_time": "2024-06-02T14:05:30.049266",
     "exception": false,
     "start_time": "2024-06-02T14:05:30.038526",
     "status": "completed"
    },
    "tags": []
   },
   "source": [
    "# Splitting data into traning and testing"
   ]
  },
  {
   "cell_type": "code",
   "execution_count": null,
   "id": "705fd7c0",
   "metadata": {
    "execution": {
     "iopub.execute_input": "2024-06-02T14:05:30.072529Z",
     "iopub.status.busy": "2024-06-02T14:05:30.072196Z",
     "iopub.status.idle": "2024-06-02T14:05:31.213274Z",
     "shell.execute_reply": "2024-06-02T14:05:31.211825Z"
    },
    "executionInfo": {
     "elapsed": 638,
     "status": "ok",
     "timestamp": 1624607300466,
     "user": {
      "displayName": "NOUMAN AHMAD",
      "photoUrl": "https://lh3.googleusercontent.com/a-/AOh14GhcQ3BpK0-GAMrjLlr__tOqeFHLlT11IEFK0ztPsVY=s64",
      "userId": "11031044337039581497"
     },
     "user_tz": -300
    },
    "id": "1oHT4H09UT8-",
    "papermill": {
     "duration": 1.155922,
     "end_time": "2024-06-02T14:05:31.215984",
     "exception": false,
     "start_time": "2024-06-02T14:05:30.060062",
     "status": "completed"
    },
    "tags": []
   },
   "outputs": [],
   "source": [
    "from sklearn.model_selection import train_test_split\n",
    "x_train,x_test,y_train,y_test=train_test_split(data,new_label,test_size=0.1)"
   ]
  },
  {
   "cell_type": "code",
   "execution_count": null,
   "id": "6c8b7490",
   "metadata": {
    "execution": {
     "iopub.execute_input": "2024-06-02T14:05:31.239968Z",
     "iopub.status.busy": "2024-06-02T14:05:31.239657Z",
     "iopub.status.idle": "2024-06-02T14:05:32.572708Z",
     "shell.execute_reply": "2024-06-02T14:05:32.571749Z"
    },
    "executionInfo": {
     "elapsed": 2355,
     "status": "ok",
     "timestamp": 1624607302819,
     "user": {
      "displayName": "NOUMAN AHMAD",
      "photoUrl": "https://lh3.googleusercontent.com/a-/AOh14GhcQ3BpK0-GAMrjLlr__tOqeFHLlT11IEFK0ztPsVY=s64",
      "userId": "11031044337039581497"
     },
     "user_tz": -300
    },
    "id": "j3BCXcrumxpv",
    "outputId": "772e6cd0-46e2-4fb6-ab09-4166c6a8ba06",
    "papermill": {
     "duration": 1.351298,
     "end_time": "2024-06-02T14:05:32.578686",
     "exception": false,
     "start_time": "2024-06-02T14:05:31.227388",
     "status": "completed"
    },
    "tags": []
   },
   "outputs": [],
   "source": [
    "import matplotlib.pyplot as plt\n",
    "plt.figure(figsize=(10,10))\n",
    "for i in range(20):\n",
    "    plt.subplot(5,5,i+1)\n",
    "    plt.xticks([])\n",
    "    plt.yticks([])\n",
    "    plt.grid(False)\n",
    "    plt.imshow(np.squeeze(x_test[i]))\n",
    "    plt.xlabel(categories[np.argmax(y_test[i])])\n",
    "plt.show()"
   ]
  },
  {
   "cell_type": "markdown",
   "id": "a505cf0e",
   "metadata": {
    "papermill": {
     "duration": 0.016601,
     "end_time": "2024-06-02T14:05:32.611992",
     "exception": false,
     "start_time": "2024-06-02T14:05:32.595391",
     "status": "completed"
    },
    "tags": []
   },
   "source": [
    "# Model Training"
   ]
  },
  {
   "cell_type": "code",
   "execution_count": null,
   "id": "05e77fb4",
   "metadata": {
    "execution": {
     "iopub.execute_input": "2024-06-02T14:05:32.646544Z",
     "iopub.status.busy": "2024-06-02T14:05:32.646204Z",
     "iopub.status.idle": "2024-06-02T14:13:13.367443Z",
     "shell.execute_reply": "2024-06-02T14:13:13.366530Z"
    },
    "executionInfo": {
     "elapsed": 587864,
     "status": "ok",
     "timestamp": 1624607891060,
     "user": {
      "displayName": "NOUMAN AHMAD",
      "photoUrl": "https://lh3.googleusercontent.com/a-/AOh14GhcQ3BpK0-GAMrjLlr__tOqeFHLlT11IEFK0ztPsVY=s64",
      "userId": "11031044337039581497"
     },
     "user_tz": -300
    },
    "id": "rmpEGWUMUUnh",
    "outputId": "f180ff58-d73f-4376-e4c6-af8c75f3ac04",
    "papermill": {
     "duration": 460.741116,
     "end_time": "2024-06-02T14:13:13.369648",
     "exception": false,
     "start_time": "2024-06-02T14:05:32.628532",
     "status": "completed"
    },
    "tags": []
   },
   "outputs": [],
   "source": [
    "history=model.fit(x_train,y_train,epochs=100,validation_split=0.2)"
   ]
  },
  {
   "cell_type": "markdown",
   "id": "028c131d",
   "metadata": {
    "papermill": {
     "duration": 0.380722,
     "end_time": "2024-06-02T14:13:14.079799",
     "exception": false,
     "start_time": "2024-06-02T14:13:13.699077",
     "status": "completed"
    },
    "tags": []
   },
   "source": [
    "# Export The Model"
   ]
  },
  {
   "cell_type": "code",
   "execution_count": null,
   "id": "196d564d",
   "metadata": {
    "execution": {
     "iopub.execute_input": "2024-06-02T14:13:14.734627Z",
     "iopub.status.busy": "2024-06-02T14:13:14.734271Z",
     "iopub.status.idle": "2024-06-02T14:13:14.848965Z",
     "shell.execute_reply": "2024-06-02T14:13:14.848188Z"
    },
    "executionInfo": {
     "elapsed": 574,
     "status": "ok",
     "timestamp": 1624607892763,
     "user": {
      "displayName": "NOUMAN AHMAD",
      "photoUrl": "https://lh3.googleusercontent.com/a-/AOh14GhcQ3BpK0-GAMrjLlr__tOqeFHLlT11IEFK0ztPsVY=s64",
      "userId": "11031044337039581497"
     },
     "user_tz": -300
    },
    "id": "GWIlgOnjzdhT",
    "papermill": {
     "duration": 0.446035,
     "end_time": "2024-06-02T14:13:14.851250",
     "exception": false,
     "start_time": "2024-06-02T14:13:14.405215",
     "status": "completed"
    },
    "tags": []
   },
   "outputs": [],
   "source": [
    "model.save('model.h5')"
   ]
  },
  {
   "cell_type": "markdown",
   "id": "521f4c9c",
   "metadata": {
    "papermill": {
     "duration": 0.356654,
     "end_time": "2024-06-02T14:13:15.547101",
     "exception": false,
     "start_time": "2024-06-02T14:13:15.190447",
     "status": "completed"
    },
    "tags": []
   },
   "source": [
    "# Plot The Training Loss And Accuracy"
   ]
  },
  {
   "cell_type": "code",
   "execution_count": null,
   "id": "3504f4c9",
   "metadata": {
    "execution": {
     "iopub.execute_input": "2024-06-02T14:13:16.220357Z",
     "iopub.status.busy": "2024-06-02T14:13:16.219988Z",
     "iopub.status.idle": "2024-06-02T14:13:16.224088Z",
     "shell.execute_reply": "2024-06-02T14:13:16.223331Z"
    },
    "executionInfo": {
     "elapsed": 7,
     "status": "ok",
     "timestamp": 1624607892765,
     "user": {
      "displayName": "NOUMAN AHMAD",
      "photoUrl": "https://lh3.googleusercontent.com/a-/AOh14GhcQ3BpK0-GAMrjLlr__tOqeFHLlT11IEFK0ztPsVY=s64",
      "userId": "11031044337039581497"
     },
     "user_tz": -300
    },
    "id": "dTE4J3IGUWlt",
    "papermill": {
     "duration": 0.339645,
     "end_time": "2024-06-02T14:13:16.225930",
     "exception": false,
     "start_time": "2024-06-02T14:13:15.886285",
     "status": "completed"
    },
    "tags": []
   },
   "outputs": [],
   "source": [
    "from matplotlib import pyplot as plt"
   ]
  },
  {
   "cell_type": "code",
   "execution_count": null,
   "id": "06d09e99",
   "metadata": {
    "execution": {
     "iopub.execute_input": "2024-06-02T14:13:16.928120Z",
     "iopub.status.busy": "2024-06-02T14:13:16.927760Z",
     "iopub.status.idle": "2024-06-02T14:13:17.350679Z",
     "shell.execute_reply": "2024-06-02T14:13:17.349754Z"
    },
    "executionInfo": {
     "elapsed": 970,
     "status": "ok",
     "timestamp": 1624607893729,
     "user": {
      "displayName": "NOUMAN AHMAD",
      "photoUrl": "https://lh3.googleusercontent.com/a-/AOh14GhcQ3BpK0-GAMrjLlr__tOqeFHLlT11IEFK0ztPsVY=s64",
      "userId": "11031044337039581497"
     },
     "user_tz": -300
    },
    "id": "H1TU9-z2UZlj",
    "outputId": "5441056b-9d6d-4dd7-c3b5-e762abefe44a",
    "papermill": {
     "duration": 0.756727,
     "end_time": "2024-06-02T14:13:17.353072",
     "exception": false,
     "start_time": "2024-06-02T14:13:16.596345",
     "status": "completed"
    },
    "tags": []
   },
   "outputs": [],
   "source": [
    "N = 100 #number of epochs\n",
    "\n",
    "plt.style.use(\"ggplot\")\n",
    "plt.figure()\n",
    "plt.plot(np.arange(0, N), history.history[\"loss\"], label=\"train_loss\")\n",
    "plt.plot(np.arange(0, N), history.history[\"val_loss\"], label=\"val_loss\")\n",
    "plt.plot(np.arange(0, N), history.history[\"accuracy\"], label=\"train_acc\")\n",
    "plt.plot(np.arange(0, N), history.history[\"val_accuracy\"], label=\"val_acc\")\n",
    "plt.title(\"Training Loss and Accuracy\")\n",
    "plt.xlabel(\"Epoch #\")\n",
    "plt.ylabel(\"Loss/Accuracy\")\n",
    "plt.legend(loc=\"center right\")\n",
    "plt.savefig(\"CNN_Model\")"
   ]
  },
  {
   "cell_type": "markdown",
   "id": "622d9f54",
   "metadata": {
    "papermill": {
     "duration": 0.332149,
     "end_time": "2024-06-02T14:13:18.015238",
     "exception": false,
     "start_time": "2024-06-02T14:13:17.683089",
     "status": "completed"
    },
    "tags": []
   },
   "source": [
    "# Accuracy"
   ]
  },
  {
   "cell_type": "code",
   "execution_count": null,
   "id": "2f513b21",
   "metadata": {
    "execution": {
     "iopub.execute_input": "2024-06-02T14:13:18.675242Z",
     "iopub.status.busy": "2024-06-02T14:13:18.674896Z",
     "iopub.status.idle": "2024-06-02T14:13:21.042677Z",
     "shell.execute_reply": "2024-06-02T14:13:21.041701Z"
    },
    "executionInfo": {
     "elapsed": 1181,
     "status": "ok",
     "timestamp": 1624607894895,
     "user": {
      "displayName": "NOUMAN AHMAD",
      "photoUrl": "https://lh3.googleusercontent.com/a-/AOh14GhcQ3BpK0-GAMrjLlr__tOqeFHLlT11IEFK0ztPsVY=s64",
      "userId": "11031044337039581497"
     },
     "user_tz": -300
    },
    "id": "qBKLBWTroYTu",
    "outputId": "f6d2da02-18dd-4286-f4fc-383c98e3fd13",
    "papermill": {
     "duration": 2.69888,
     "end_time": "2024-06-02T14:13:21.044901",
     "exception": false,
     "start_time": "2024-06-02T14:13:18.346021",
     "status": "completed"
    },
    "tags": []
   },
   "outputs": [],
   "source": [
    "vaL_loss, val_accuracy= model.evaluate(x_test, y_test, verbose=0)\n",
    "print(\"test loss:\", vaL_loss,'%')\n",
    "print(\"test accuracy:\", val_accuracy,\"%\")"
   ]
  },
  {
   "cell_type": "markdown",
   "id": "54d6b291",
   "metadata": {
    "papermill": {
     "duration": 0.333525,
     "end_time": "2024-06-02T14:13:21.712412",
     "exception": false,
     "start_time": "2024-06-02T14:13:21.378887",
     "status": "completed"
    },
    "tags": []
   },
   "source": [
    "# Prediction"
   ]
  },
  {
   "cell_type": "code",
   "execution_count": null,
   "id": "70c405a8",
   "metadata": {
    "execution": {
     "iopub.execute_input": "2024-06-02T14:13:22.422692Z",
     "iopub.status.busy": "2024-06-02T14:13:22.422350Z",
     "iopub.status.idle": "2024-06-02T14:13:23.975318Z",
     "shell.execute_reply": "2024-06-02T14:13:23.974406Z"
    },
    "executionInfo": {
     "elapsed": 23,
     "status": "ok",
     "timestamp": 1624607894898,
     "user": {
      "displayName": "NOUMAN AHMAD",
      "photoUrl": "https://lh3.googleusercontent.com/a-/AOh14GhcQ3BpK0-GAMrjLlr__tOqeFHLlT11IEFK0ztPsVY=s64",
      "userId": "11031044337039581497"
     },
     "user_tz": -300
    },
    "id": "mO_qh8EZl8qZ",
    "outputId": "b16548d0-87ec-4901-d204-fcca8c701a25",
    "papermill": {
     "duration": 1.886601,
     "end_time": "2024-06-02T14:13:23.977710",
     "exception": false,
     "start_time": "2024-06-02T14:13:22.091109",
     "status": "completed"
    },
    "tags": []
   },
   "outputs": [],
   "source": [
    "X = 32\n",
    "\n",
    "img_size = 256\n",
    "\n",
    "img_single = x_test[X]\n",
    "img_single = cv2.resize(img_single, (img_size, img_size))\n",
    "img_single = (np.expand_dims(img_single, 0))\n",
    "img_single = img_single.reshape(img_single.shape[0],256,256,1)\n",
    "\n",
    "predictions_single = model.predict(img_single)\n",
    "print('A.I predicts:',categories[np.argmax(predictions_single)])\n",
    "print(\"Correct prediction for label\",np.argmax(y_test[X]),'is',categories[np.argmax(y_test[X])])\n",
    "plt.imshow(np.squeeze(img_single))\n",
    "plt.grid(False)\n",
    "plt.show()"
   ]
  },
  {
   "cell_type": "markdown",
   "id": "286ab120",
   "metadata": {
    "papermill": {
     "duration": 0.330486,
     "end_time": "2024-06-02T14:13:24.641900",
     "exception": false,
     "start_time": "2024-06-02T14:13:24.311414",
     "status": "completed"
    },
    "tags": []
   },
   "source": [
    "# Confusion Matrix"
   ]
  },
  {
   "cell_type": "code",
   "execution_count": null,
   "id": "bbb8ed37",
   "metadata": {
    "execution": {
     "iopub.execute_input": "2024-06-02T14:13:25.306845Z",
     "iopub.status.busy": "2024-06-02T14:13:25.306488Z",
     "iopub.status.idle": "2024-06-02T14:13:26.621821Z",
     "shell.execute_reply": "2024-06-02T14:13:26.620862Z"
    },
    "executionInfo": {
     "elapsed": 17,
     "status": "ok",
     "timestamp": 1624607894899,
     "user": {
      "displayName": "NOUMAN AHMAD",
      "photoUrl": "https://lh3.googleusercontent.com/a-/AOh14GhcQ3BpK0-GAMrjLlr__tOqeFHLlT11IEFK0ztPsVY=s64",
      "userId": "11031044337039581497"
     },
     "user_tz": -300
    },
    "id": "YO55PPeenshy",
    "outputId": "83524a05-f352-42a4-e91d-14b6598cf529",
    "papermill": {
     "duration": 1.651625,
     "end_time": "2024-06-02T14:13:26.625974",
     "exception": false,
     "start_time": "2024-06-02T14:13:24.974349",
     "status": "completed"
    },
    "tags": []
   },
   "outputs": [],
   "source": [
    "from sklearn.metrics import confusion_matrix\n",
    "from mlxtend.plotting import plot_confusion_matrix\n",
    "\n",
    "test_labels = np.argmax(y_test, axis=1)\n",
    "predictions = model.predict(x_test)\n",
    "predictions = np.argmax(predictions, axis=-1)\n",
    "\n",
    "\n",
    "cm  = confusion_matrix(test_labels, predictions)\n",
    "plt.figure()\n",
    "plot_confusion_matrix(cm,figsize=(12,8), hide_ticks=True,cmap=plt.cm.Blues)\n",
    "plt.xticks(range(5), ['Normal','Doubtful','Mid','Moderate','Severe'], fontsize=16)\n",
    "plt.yticks(range(5), ['Normal','Doubtful','Mid','Moderate','Severe'], fontsize=16)\n",
    "plt.show()"
   ]
  },
  {
   "cell_type": "code",
   "execution_count": null,
   "id": "288746ab",
   "metadata": {
    "papermill": {
     "duration": 0.333848,
     "end_time": "2024-06-02T14:13:27.317661",
     "exception": false,
     "start_time": "2024-06-02T14:13:26.983813",
     "status": "completed"
    },
    "tags": []
   },
   "outputs": [],
   "source": []
  }
 ],
 "metadata": {
  "accelerator": "GPU",
  "colab": {
   "name": "Model_Training.ipynb",
   "provenance": []
  },
  "kaggle": {
   "accelerator": "nvidiaTeslaT4",
   "dataSources": [
    {
     "datasetId": 5125380,
     "sourceId": 8571674,
     "sourceType": "datasetVersion"
    }
   ],
   "dockerImageVersionId": 30716,
   "isGpuEnabled": true,
   "isInternetEnabled": true,
   "language": "python",
   "sourceType": "notebook"
  },
  "kernelspec": {
   "display_name": "Python 3",
   "language": "python",
   "name": "python3"
  },
  "language_info": {
   "codemirror_mode": {
    "name": "ipython",
    "version": 3
   },
   "file_extension": ".py",
   "mimetype": "text/x-python",
   "name": "python",
   "nbconvert_exporter": "python",
   "pygments_lexer": "ipython3",
   "version": "3.9.6"
  },
  "papermill": {
   "default_parameters": {},
   "duration": 507.620394,
   "end_time": "2024-06-02T14:13:30.078275",
   "environment_variables": {},
   "exception": null,
   "input_path": "__notebook__.ipynb",
   "output_path": "__notebook__.ipynb",
   "parameters": {},
   "start_time": "2024-06-02T14:05:02.457881",
   "version": "2.5.0"
  }
 },
 "nbformat": 4,
 "nbformat_minor": 5
}
